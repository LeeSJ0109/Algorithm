e, f, c = map(int, input().split())
empty = e + f
result = 0

while empty >= c:
    q, r = divmod(empty, c)
    result += q
    empty = q + r

print(result)
