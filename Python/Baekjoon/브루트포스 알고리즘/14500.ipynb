{
 "cells": [
  {
   "cell_type": "code",
   "execution_count": null,
   "metadata": {},
   "outputs": [],
   "source": []
  },
  {
   "cell_type": "code",
   "execution_count": 1,
   "metadata": {},
   "outputs": [
    {
     "name": "stdout",
     "output_type": "stream",
     "text": [
      "[[1, 2, 3, 4, 5], [2, 3, 4, 5, 6], [2, 3, 4, 5, 6], [1, 2, 3, 4, 5], [5, 6, 7, 8, 9]]\n"
     ]
    }
   ],
   "source": [
    "N, M = map(int, input().split())\n",
    "arr = []\n",
    "\n",
    "for _ in range(N):\n",
    "    arr.append(list(map(int, input().split())))"
   ]
  },
  {
   "cell_type": "code",
   "execution_count": 4,
   "metadata": {},
   "outputs": [],
   "source": [
    "maximum = 0"
   ]
  },
  {
   "cell_type": "code",
   "execution_count": 9,
   "metadata": {},
   "outputs": [
    {
     "data": {
      "text/plain": [
       "30"
      ]
     },
     "execution_count": 9,
     "metadata": {},
     "output_type": "execute_result"
    }
   ],
   "source": [
    "for i in range(N):\n",
    "    for j in range(M-3):\n",
    "        maximum = max(maximum, sum(arr[i][j:j+4]))\n",
    "        \n",
    "maximum"
   ]
  },
  {
   "cell_type": "code",
   "execution_count": null,
   "metadata": {},
   "outputs": [],
   "source": [
    "N, M = map(int, input().split())\n",
    "board = []\n",
    "\n",
    "for _ in range(N):\n",
    "    board.append([list(map(int, input().split())) for _ in range(M)])\n",
    "\n",
    "# 테트로미노의 모든 형태를 정의\n",
    "tetrominoes = [\n",
    "    # I자형\n",
    "    [(0, 0), (0, 1), (0, 2), (0, 3)],\n",
    "    [(0, 0), (1, 0), (2, 0), (3, 0)],\n",
    "    \n",
    "    # O자형\n",
    "    [(0, 0), (0, 1), (1, 0), (1, 1)],\n",
    "    \n",
    "    # L자형\n",
    "    [(0, 0), (1, 0), (2, 0), (2, 1)],\n",
    "    [(0, 1), (1, 1), (2, 1), (2, 0)],\n",
    "    [(0, 0), (0, 1), (0, 2), (1, 0)],\n",
    "    [(0, 0), (0, 1), (0, 2), (1, 2)],\n",
    "    [(1, 0), (1, 1), (1, 2), (0, 0)],\n",
    "    [(1, 0), (1, 1), (1, 2), (0, 2)],\n",
    "    [(0, 0), (1, 0), (2, 0), (2, -1)],\n",
    "    [(0, 0), (1, 0), (2, 0), (2, 1)],\n",
    "    \n",
    "    # T자형\n",
    "    [(0, 0), (0, 1), (0, 2), (1, 1)],\n",
    "    [(0, 1), (1, 1), (2, 1), (1, 0)],\n",
    "    [(1, 0), (1, 1), (1, 2), (0, 1)],\n",
    "    [(0, 0), (1, 0), (2, 0), (1, 1)],\n",
    "    \n",
    "    # Z자형\n",
    "    [(0, 0), (0, 1), (1, 1), (1, 2)],\n",
    "    [(1, 0), (0, 1), (1, 1), (0, 2)],\n",
    "    [(0, 0), (1, 0), (1, 1), (2, 1)],\n",
    "    [(1, 0), (2, 0), (0, 1), (1, 1)]\n",
    "]\n",
    "\n",
    "def get_max_tetromino_sum():\n",
    "    max_sum = 0\n",
    "    for i in range(N):\n",
    "        for j in range(M):\n",
    "            for tetromino in tetrominoes:\n",
    "                current_sum = 0\n",
    "                valid = True\n",
    "                for dx, dy in tetromino:\n",
    "                    x, y = i + dx, j + dy\n",
    "                    if 0 <= x < N and 0 <= y < M:\n",
    "                        current_sum += board[x][y]\n",
    "                    else:\n",
    "                        valid = False\n",
    "                        break\n",
    "                if valid:\n",
    "                    max_sum = max(max_sum, current_sum)\n",
    "    return max_sum\n",
    "\n",
    "# 최대 합 출력\n",
    "print(get_max_tetromino_sum())\n"
   ]
  }
 ],
 "metadata": {
  "kernelspec": {
   "display_name": "venv",
   "language": "python",
   "name": "venv"
  },
  "language_info": {
   "codemirror_mode": {
    "name": "ipython",
    "version": 3
   },
   "file_extension": ".py",
   "mimetype": "text/x-python",
   "name": "python",
   "nbconvert_exporter": "python",
   "pygments_lexer": "ipython3",
   "version": "3.11.2"
  }
 },
 "nbformat": 4,
 "nbformat_minor": 2
}
